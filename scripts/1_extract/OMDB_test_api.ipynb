{
 "cells": [
  {
   "cell_type": "code",
   "execution_count": 210,
   "id": "d57bcea6",
   "metadata": {},
   "outputs": [],
   "source": [
    "import requests\n",
    "from dotenv import load_dotenv\n",
    "import os\n",
    "import difflib\n",
    "import pandas as pd\n",
    "from pathlib import Path\n",
    "import datetime\n",
    "from tqdm import tqdm\n",
    "import logging"
   ]
  },
  {
   "cell_type": "code",
   "execution_count": null,
   "id": "77442739",
   "metadata": {},
   "outputs": [],
   "source": [
    "load_dotenv()\n",
    "\n",
    "OMDB_API_KEY = os.getenv(\"OMDB_API_KEY\")\n",
    "OMDB_URL = \"http://www.omdbapi.com/\"\n",
    "\n",
    "logging.basicConfig(\n",
    "    filename=\"movie_ratings.log\",   \n",
    "    level=logging.INFO,             \n",
    "    format=\"%(asctime)s - %(levelname)s - %(message)s\" \n",
    ")\n",
    "\n",
    "tqdm.pandas() # Bar progress on pandas"
   ]
  },
  {
   "cell_type": "code",
   "execution_count": 212,
   "id": "9c67c5f4",
   "metadata": {},
   "outputs": [
    {
     "name": "stdout",
     "output_type": "stream",
     "text": [
      "True\n"
     ]
    }
   ],
   "source": [
    "def check_authentication():\n",
    "    \n",
    "    params = {\n",
    "        \"apikey\" : OMDB_API_KEY\n",
    "    }\n",
    "    \n",
    "    response = requests.get(OMDB_URL, params=params)\n",
    "    \n",
    "    return response.status_code == 200\n",
    "\n",
    "###\n",
    "\n",
    "print(check_authentication())"
   ]
  },
  {
   "cell_type": "code",
   "execution_count": 253,
   "id": "5b5fca80",
   "metadata": {},
   "outputs": [
    {
     "data": {
      "text/plain": [
       "None"
      ]
     },
     "metadata": {},
     "output_type": "display_data"
    },
    {
     "data": {
      "text/plain": [
       "None"
      ]
     },
     "metadata": {},
     "output_type": "display_data"
    },
    {
     "data": {
      "text/plain": [
       "None"
      ]
     },
     "metadata": {},
     "output_type": "display_data"
    }
   ],
   "source": [
    "def get_data(data_type, original_title, release_year=None, threshold=0.6):\n",
    "    \"\"\"\n",
    "        Calls OMDB API to retrieve information about a movie/show. If the name of the movie/show recieved doesn't match \n",
    "        enough with the name of the result movie/show, then it is not considered the same movie/show.\n",
    "        \n",
    "        - Type can be 'movie' or 'series'\n",
    "    \"\"\"\n",
    "    \n",
    "    params = {\n",
    "        \"apikey\" : OMDB_API_KEY,\n",
    "        \"type\": data_type,\n",
    "        \"t\" : original_title,\n",
    "        \"y\" : release_year,\n",
    "        \"r\" : \"json\"\n",
    "    }\n",
    "    \n",
    "    response = requests.get(OMDB_URL, params=params)\n",
    "    \n",
    "    if response.status_code == 200:\n",
    "        \n",
    "        data = response.json()\n",
    "        if data.get(\"Response\") == \"True\":\n",
    "            data_title = data.get(\"Title\").lower()\n",
    "            input_title = original_title.lower()\n",
    "            \n",
    "            similarity = difflib.SequenceMatcher(None, input_title, data_title).ratio()\n",
    "            \n",
    "            if similarity >= threshold:\n",
    "                logging.info(f\"Match acepted: '{input_title}' vs '{data_title}' ({similarity:.2f})\")\n",
    "                return data\n",
    "            else:\n",
    "                logging.info(f\"Low similarity: '{input_title}' vs '{data_title}' ({similarity:.2f})\")\n",
    "                return None\n",
    "        else:\n",
    "            logging.info(f\"No match found for: '{data_type}' - '{original_title}' - '{release_year}'\")\n",
    "            return None\n",
    "    else:\n",
    "        logging.info(f\"OMDB - {data_type} - {original_title} - Error: {response.status_code}\")\n",
    "        return None\n",
    "    \n",
    "def get_rating(data_type, title, release_year=None):\n",
    "    result = get_data(data_type, title, release_year)\n",
    "    \n",
    "    if result != None:\n",
    "        return result.get('imdbRating')\n",
    "        \n",
    "###\n",
    "\n",
    "display(get_rating(\"movie\", \"Guardians of the Galaxy Vol. 2\"))\n",
    "display(get_rating(\"movie\", \"Breaking Bad\"))\n",
    "display(get_data(\"series\", \"Breaking\"))\n"
   ]
  },
  {
   "cell_type": "code",
   "execution_count": null,
   "id": "aaac5eee",
   "metadata": {},
   "outputs": [],
   "source": [
    "BASE_DIR = Path.cwd().parent.parent\n",
    "RAW_DIR = BASE_DIR / \"data\" / \"1_raw\"\n",
    "\n",
    "movies_absolute_path = f\"{RAW_DIR}\\\\TMDB\\\\TMDB_top_rated_movies.csv\"\n",
    "shows_absolute_path = f\"{RAW_DIR}\\\\TMDB\\\\TMDB_top_rated_shows.csv\"\n",
    "\n",
    "\n",
    "TMDB_movies = pd.read_csv(movies_absolute_path, sep=';', index_col=0)\n",
    "TMDB_shows = pd.read_csv(shows_absolute_path, sep=';', index_col=0)\n",
    "\n",
    "# Fill NAs on date\n",
    "TMDB_movies.fillna({\"release_date\":'1111-11-11'}, inplace=True) \n",
    "TMDB_shows.fillna({\"first_air_date\":'1111-11-11'}, inplace=True)\n",
    "\n",
    "# Extract year from the date\n",
    "TMDB_movies[\"year\"] = TMDB_movies[\"release_date\"].apply(lambda x: datetime.datetime.strptime(x, \"%Y-%m-%d\").date().year)\n",
    "TMDB_shows[\"year\"] = TMDB_shows[\"first_air_date\"].apply(lambda x: datetime.datetime.strptime(x, \"%Y-%m-%d\").date().year)\n",
    "\n",
    "# OMDB has a limit of 1000 API request per day for Free accounts\n",
    "movies_enrichment = TMDB_movies[[\"id\", \"title_EN\", \"year\"]][:500]\n",
    "shows_enrichment = TMDB_shows[[\"id\", \"title_EN\", \"year\"]][:500]\n"
   ]
  },
  {
   "cell_type": "code",
   "execution_count": null,
   "id": "2a29c4af",
   "metadata": {},
   "outputs": [],
   "source": [
    "movies_enrichment['imdb_rating'] = movies_enrichment.progress_apply(lambda x: get_rating(\"movie\", x.loc[\"title_EN\"], x.loc[\"year\"]), axis=1)"
   ]
  },
  {
   "cell_type": "code",
   "execution_count": 243,
   "id": "dc0fcee4",
   "metadata": {},
   "outputs": [
    {
     "name": "stderr",
     "output_type": "stream",
     "text": [
      "100%|██████████| 1000/1000 [01:00<00:00, 16.65it/s]\n"
     ]
    }
   ],
   "source": [
    "shows_enrichment['imdb_rating'] = shows_enrichment.progress_apply(lambda x: get_rating(\"series\", x.loc[\"title_EN\"], x.loc[\"year\"]), axis=1)"
   ]
  },
  {
   "cell_type": "code",
   "execution_count": null,
   "id": "e4197757",
   "metadata": {},
   "outputs": [
    {
     "name": "stderr",
     "output_type": "stream",
     "text": [
      "100%|██████████| 1000/1000 [01:00<00:00, 16.59it/s]\n",
      "100%|██████████| 1000/1000 [04:05<00:00,  4.08it/s]\n"
     ]
    }
   ],
   "source": [
    "\n",
    "movies_enrichment['imdb_rating'] = movies_enrichment.progress_apply(lambda x: get_rating(\"movie\", x.loc[\"title_EN\"], x.loc[\"year\"]), axis=1)\n",
    "\n",
    "time.sleep(60)\n",
    "\n",
    "shows_enrichment['imdb_rating'] = shows_enrichment.progress_apply(lambda x: get_rating(\"series\", x.loc[\"title_EN\"], x.loc[\"year\"]), axis=1)"
   ]
  },
  {
   "cell_type": "code",
   "execution_count": 244,
   "id": "5b08a52d",
   "metadata": {},
   "outputs": [
    {
     "data": {
      "text/html": [
       "<div>\n",
       "<style scoped>\n",
       "    .dataframe tbody tr th:only-of-type {\n",
       "        vertical-align: middle;\n",
       "    }\n",
       "\n",
       "    .dataframe tbody tr th {\n",
       "        vertical-align: top;\n",
       "    }\n",
       "\n",
       "    .dataframe thead th {\n",
       "        text-align: right;\n",
       "    }\n",
       "</style>\n",
       "<table border=\"1\" class=\"dataframe\">\n",
       "  <thead>\n",
       "    <tr style=\"text-align: right;\">\n",
       "      <th></th>\n",
       "      <th>id</th>\n",
       "      <th>title_EN</th>\n",
       "      <th>year</th>\n",
       "      <th>imdb_rating</th>\n",
       "    </tr>\n",
       "  </thead>\n",
       "  <tbody>\n",
       "    <tr>\n",
       "      <th>0</th>\n",
       "      <td>1396</td>\n",
       "      <td>Breaking Bad</td>\n",
       "      <td>2008</td>\n",
       "      <td>None</td>\n",
       "    </tr>\n",
       "    <tr>\n",
       "      <th>1</th>\n",
       "      <td>219246</td>\n",
       "      <td>When Life Gives You Tangerines</td>\n",
       "      <td>2025</td>\n",
       "      <td>None</td>\n",
       "    </tr>\n",
       "    <tr>\n",
       "      <th>2</th>\n",
       "      <td>209867</td>\n",
       "      <td>Frieren: Beyond Journey's End</td>\n",
       "      <td>2023</td>\n",
       "      <td>None</td>\n",
       "    </tr>\n",
       "    <tr>\n",
       "      <th>3</th>\n",
       "      <td>94605</td>\n",
       "      <td>Arcane</td>\n",
       "      <td>2021</td>\n",
       "      <td>None</td>\n",
       "    </tr>\n",
       "    <tr>\n",
       "      <th>4</th>\n",
       "      <td>131378</td>\n",
       "      <td>Adventure Time: Fionna &amp; Cake</td>\n",
       "      <td>2023</td>\n",
       "      <td>None</td>\n",
       "    </tr>\n",
       "    <tr>\n",
       "      <th>...</th>\n",
       "      <td>...</td>\n",
       "      <td>...</td>\n",
       "      <td>...</td>\n",
       "      <td>...</td>\n",
       "    </tr>\n",
       "    <tr>\n",
       "      <th>995</th>\n",
       "      <td>1660</td>\n",
       "      <td>I Dream of Jeannie</td>\n",
       "      <td>1965</td>\n",
       "      <td>None</td>\n",
       "    </tr>\n",
       "    <tr>\n",
       "      <th>996</th>\n",
       "      <td>78204</td>\n",
       "      <td>Sword Art Online Alternative: Gun Gale Online</td>\n",
       "      <td>2018</td>\n",
       "      <td>None</td>\n",
       "    </tr>\n",
       "    <tr>\n",
       "      <th>997</th>\n",
       "      <td>54671</td>\n",
       "      <td>Penny Dreadful</td>\n",
       "      <td>2014</td>\n",
       "      <td>None</td>\n",
       "    </tr>\n",
       "    <tr>\n",
       "      <th>998</th>\n",
       "      <td>35279</td>\n",
       "      <td>Austin &amp; Ally</td>\n",
       "      <td>2011</td>\n",
       "      <td>None</td>\n",
       "    </tr>\n",
       "    <tr>\n",
       "      <th>999</th>\n",
       "      <td>54583</td>\n",
       "      <td>Los heroes del norte</td>\n",
       "      <td>2010</td>\n",
       "      <td>None</td>\n",
       "    </tr>\n",
       "  </tbody>\n",
       "</table>\n",
       "<p>1000 rows × 4 columns</p>\n",
       "</div>"
      ],
      "text/plain": [
       "         id                                       title_EN  year imdb_rating\n",
       "0      1396                                   Breaking Bad  2008        None\n",
       "1    219246                 When Life Gives You Tangerines  2025        None\n",
       "2    209867                  Frieren: Beyond Journey's End  2023        None\n",
       "3     94605                                         Arcane  2021        None\n",
       "4    131378                  Adventure Time: Fionna & Cake  2023        None\n",
       "..      ...                                            ...   ...         ...\n",
       "995    1660                             I Dream of Jeannie  1965        None\n",
       "996   78204  Sword Art Online Alternative: Gun Gale Online  2018        None\n",
       "997   54671                                 Penny Dreadful  2014        None\n",
       "998   35279                                  Austin & Ally  2011        None\n",
       "999   54583                           Los heroes del norte  2010        None\n",
       "\n",
       "[1000 rows x 4 columns]"
      ]
     },
     "execution_count": 244,
     "metadata": {},
     "output_type": "execute_result"
    }
   ],
   "source": [
    "shows_enrichment"
   ]
  },
  {
   "cell_type": "code",
   "execution_count": 54,
   "id": "6922322b",
   "metadata": {},
   "outputs": [
    {
     "data": {
      "text/plain": [
       "Index(['adult', 'backdrop_path', 'genre_ids', 'id', 'original_language',\n",
       "       'original_title', 'overview', 'popularity', 'poster_path',\n",
       "       'release_date', 'title', 'video', 'vote_average', 'vote_count',\n",
       "       'origin', 'type'],\n",
       "      dtype='object')"
      ]
     },
     "metadata": {},
     "output_type": "display_data"
    }
   ],
   "source": [
    "display(TMDB_movies.columns)"
   ]
  }
 ],
 "metadata": {
  "kernelspec": {
   "display_name": "Python 3",
   "language": "python",
   "name": "python3"
  },
  "language_info": {
   "codemirror_mode": {
    "name": "ipython",
    "version": 3
   },
   "file_extension": ".py",
   "mimetype": "text/x-python",
   "name": "python",
   "nbconvert_exporter": "python",
   "pygments_lexer": "ipython3",
   "version": "3.13.2"
  }
 },
 "nbformat": 4,
 "nbformat_minor": 5
}
