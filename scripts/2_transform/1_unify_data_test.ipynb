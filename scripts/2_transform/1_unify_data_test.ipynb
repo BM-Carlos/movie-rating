{
 "cells": [
  {
   "cell_type": "code",
   "execution_count": 8,
   "id": "a19e06ad",
   "metadata": {},
   "outputs": [],
   "source": [
    "import pandas as pd\n",
    "from pathlib import Path\n",
    "import ast\n",
    "import datetime"
   ]
  },
  {
   "cell_type": "code",
   "execution_count": 9,
   "id": "9eb668db",
   "metadata": {},
   "outputs": [],
   "source": [
    "def parse_list(string_list):\n",
    "    # This is necesary since TMDB API sends strings of lists\n",
    "    try:\n",
    "        return ast.literal_eval(string_list)\n",
    "    except:\n",
    "        return []\n",
    "    \n",
    "def get_genre(genre_ids, list_of_genres):\n",
    "    return list(list_of_genres[list_of_genres['id'].isin(genre_ids)]['name'])\n"
   ]
  },
  {
   "cell_type": "code",
   "execution_count": 10,
   "id": "16393f41",
   "metadata": {},
   "outputs": [],
   "source": [
    "BASE_DIR = Path.cwd().parent.parent\n",
    "# BASE_DIR = Path(__file__).resolve().parent.parent.parent\n",
    "RAW_DIR = BASE_DIR / \"data\" / \"1_bronze\"\n",
    "\n",
    "# TMDB files\n",
    "movies_path = f\"{RAW_DIR}\\\\TMDB_top_rated_movies.csv\"\n",
    "shows_path = f\"{RAW_DIR}\\\\TMDB_top_rated_shows.csv\"\n",
    "\n",
    "TMDB_movies = pd.read_csv(movies_path, sep=';', index_col=0)\n",
    "TMDB_shows = pd.read_csv(shows_path, sep=';', index_col=0)\n",
    "\n",
    "# TMDB movie-shows genres\n",
    "movies_genres_path = f\"{RAW_DIR}\\\\TMDB_movies_genres.csv\"\n",
    "shows_genres_path = f\"{RAW_DIR}\\\\TMDB_shows_genres.csv\"\n",
    "\n",
    "movies_genres = pd.read_csv(movies_genres_path, sep=';', index_col=0)\n",
    "shows_genres = pd.read_csv(shows_genres_path, sep=';', index_col=0)\n",
    "\n",
    "# IMDB files\n",
    "imbd_rating_movies_path = f\"{RAW_DIR}\\\\OMDB_imdb_rating_movies.csv\"\n",
    "imbd_rating_shows_path = f\"{RAW_DIR}\\\\OMDB_imdb_rating_shows.csv\"\n",
    "\n",
    "IMBD_rating_movies = pd.read_csv(imbd_rating_movies_path, sep=';', index_col=0)\n",
    "IMBD_rating_shows = pd.read_csv(imbd_rating_shows_path, sep=';', index_col=0)"
   ]
  },
  {
   "cell_type": "code",
   "execution_count": 11,
   "id": "6e8a1076",
   "metadata": {},
   "outputs": [],
   "source": [
    "# Add found IMDB ratings to TMDB data\n",
    "movies_final_result = TMDB_movies.merge(IMBD_rating_movies, how='left', left_on='id', right_on='tmdb_id')\n",
    "shows_final_result = TMDB_shows.merge(IMBD_rating_shows, how='left', left_on='id', right_on='tmdb_id')"
   ]
  },
  {
   "cell_type": "code",
   "execution_count": 12,
   "id": "82b99151",
   "metadata": {},
   "outputs": [],
   "source": [
    "# Cast string-lists to lists (['[18, 80]'] -> [18, 80])\n",
    "movies_final_result['genre_ids'] = movies_final_result['genre_ids'].apply(parse_list)\n",
    "shows_final_result['genre_ids'] = shows_final_result['genre_ids'].apply(parse_list)\n",
    "\n",
    "# Create column 'genre' with real names instead of IDs\n",
    "movies_final_result['genre'] = movies_final_result['genre_ids'].apply(lambda x: get_genre(x, movies_genres))\n",
    "shows_final_result['genre'] = shows_final_result['genre_ids'].apply(lambda x: get_genre(x, shows_genres))"
   ]
  },
  {
   "cell_type": "code",
   "execution_count": null,
   "id": "bfe42214",
   "metadata": {},
   "outputs": [],
   "source": [
    "# Unify movies and shows in a single dataset\n",
    "\n",
    "## Select valuable columns from movies\n",
    "movies_final_result = movies_final_result[[\"type\", \"id\", \"title_ES\", \"overview\", \"release_date\", \"genre\", \"vote_average\", \"vote_count\", \"imdb_rating\", \"imdb_votes\"]]\n",
    "movies_final_result.rename(columns={\"title_ES\":\"title\", \"vote_average\":\"tmdb_rating\", \"vote_count\":\"tmdb_count\", \"imdb_votes\":\"imdb_count\"}, inplace=True)\n",
    "\n",
    "## Select valuable columns from shows\n",
    "shows_final_result = shows_final_result[[\"type\", \"id\", \"title_ES\", \"overview\", \"first_air_date\", \"genre\", \"vote_average\", \"vote_count\", \"imdb_rating\", \"imdb_votes\"]]\n",
    "shows_final_result.rename(columns={\"title_ES\":\"title\", \"first_air_date\":\"release_date\", \"vote_average\":\"tmdb_rating\", \"vote_count\":\"tmdb_count\", \"imdb_votes\":\"imdb_count\"}, inplace=True)\n",
    "\n",
    "# Merge shows and movies (can be distiguished for 'type' column)\n",
    "all_data = pd.concat([movies_final_result, shows_final_result], ignore_index=True)"
   ]
  },
  {
   "cell_type": "code",
   "execution_count": 14,
   "id": "d188ac46",
   "metadata": {},
   "outputs": [],
   "source": [
    "BASE_DIR = Path.cwd().parent.parent\n",
    "# BASE_DIR = Path(__file__).resolve().parent.parent.parent\n",
    "SILVER_DIR = BASE_DIR / \"data\" / \"2_silver\"\n",
    "\n",
    "# TMDB files\n",
    "all_data_path = f\"{SILVER_DIR}\\\\base_movies_and_shows.csv\"\n",
    "\n",
    "all_data.to_csv(all_data_path, sep=';')"
   ]
  }
 ],
 "metadata": {
  "kernelspec": {
   "display_name": "Python 3",
   "language": "python",
   "name": "python3"
  },
  "language_info": {
   "codemirror_mode": {
    "name": "ipython",
    "version": 3
   },
   "file_extension": ".py",
   "mimetype": "text/x-python",
   "name": "python",
   "nbconvert_exporter": "python",
   "pygments_lexer": "ipython3",
   "version": "3.13.2"
  }
 },
 "nbformat": 4,
 "nbformat_minor": 5
}
