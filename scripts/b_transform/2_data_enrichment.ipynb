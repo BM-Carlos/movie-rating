{
 "cells": [
  {
   "cell_type": "code",
   "execution_count": 60,
   "id": "2684926b",
   "metadata": {},
   "outputs": [],
   "source": [
    "import pandas as pd\n",
    "from pathlib import Path\n",
    "import ast\n",
    "import datetime"
   ]
  },
  {
   "cell_type": "code",
   "execution_count": 61,
   "id": "aabe2d94",
   "metadata": {},
   "outputs": [],
   "source": [
    "\n",
    "def is_popular(tmdb_count, imdb_votes):\n",
    "    return (tmdb_count > 10000) or (imdb_votes > 10000)"
   ]
  },
  {
   "cell_type": "code",
   "execution_count": 62,
   "id": "27dbc87d",
   "metadata": {},
   "outputs": [],
   "source": [
    "BASE_DIR = Path.cwd().parent.parent\n",
    "# BASE_DIR = Path(__file__).resolve().parent.parent.parent\n",
    "SILVER_DIR = BASE_DIR / \"data\" / \"2_silver\"\n",
    "\n",
    "# TMDB files\n",
    "movies_path = f\"{SILVER_DIR}\\\\base_movies_and_shows.csv\"\n",
    "\n",
    "all_data = pd.read_csv(movies_path, sep=';', index_col=0)"
   ]
  },
  {
   "cell_type": "code",
   "execution_count": 63,
   "id": "b22bede2",
   "metadata": {},
   "outputs": [],
   "source": [
    "# Cast imdb_votes to integer from string with commas\n",
    "all_data['imdb_count'] = (all_data['imdb_count'].fillna(-1).astype(str).str.replace(\",\", \"\").astype(int))\n",
    "\n",
    "# Replace nulls in ratings\n",
    "all_data['imdb_rating'] = all_data['imdb_rating'].fillna(-1)\n",
    "all_data['tmdb_rating'] = all_data['tmdb_rating'].fillna(-1)\n",
    "\n",
    "# Replace nulls in release_date\n",
    "all_data['release_date'] = all_data['release_date'].fillna('1111-11-11')\n",
    "\n",
    "# Convert String dates (YYYY-MM-dd) in Datetime and transform to Spanish format (dd/MM/YYYY)\n",
    "all_data['release_date'] = all_data['release_date'].apply(lambda x: datetime.datetime.strptime(x, '%Y-%m-%d').strftime('%d/%m/%Y'))\n",
    "\n",
    "# Create new column 'is_popular' based on the number of votes\n",
    "all_data['is_popular'] = all_data.apply(lambda row: is_popular(row['tmdb_count'], row['imdb_count']), axis=1)\n",
    "\n",
    "# For simplicity, pick only records with 2 ratings available\n",
    "all_data = all_data[(all_data['imdb_rating'] != -1) & (all_data['tmdb_rating'] != -1)]\n",
    "\n",
    "# Merge movies/shows with watch providers \n",
    "movies = all_data[all_data['type'] == 'movie']\n",
    "shows = all_data[all_data['type'] == 'show']\n",
    "\n",
    "BASE_DIR = Path.cwd().parent.parent\n",
    "# BASE_DIR = Path(__file__).resolve().parent.parent.parent\n",
    "RAW_DIR = BASE_DIR / \"data\" / \"1_bronze\"\n",
    "movies_watch_providers_path = f\"{RAW_DIR}\\\\TMDB_watch_providers_movies.csv\"\n",
    "shows_watch_providers_path = f\"{RAW_DIR}\\\\TMDB_watch_providers_shows.csv\"\n",
    "\n",
    "movies_watch_providers = pd.read_csv(movies_watch_providers_path, sep=';', index_col=0)\n",
    "shows_watch_providers = pd.read_csv(shows_watch_providers_path, sep=';', index_col=0)\n",
    "\n",
    "movies = movies.merge(movies_watch_providers, on=[\"id\"])\n",
    "shows = shows.merge(shows_watch_providers, on=[\"id\"])\n",
    "\n"
   ]
  }
 ],
 "metadata": {
  "kernelspec": {
   "display_name": "Python 3",
   "language": "python",
   "name": "python3"
  },
  "language_info": {
   "codemirror_mode": {
    "name": "ipython",
    "version": 3
   },
   "file_extension": ".py",
   "mimetype": "text/x-python",
   "name": "python",
   "nbconvert_exporter": "python",
   "pygments_lexer": "ipython3",
   "version": "3.13.2"
  }
 },
 "nbformat": 4,
 "nbformat_minor": 5
}
